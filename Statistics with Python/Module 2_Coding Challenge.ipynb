{
 "cells": [
  {
   "cell_type": "markdown",
   "id": "cbd31b2d",
   "metadata": {},
   "source": [
    "## Coding Challenge"
   ]
  },
  {
   "cell_type": "markdown",
   "id": "f0fa058b",
   "metadata": {},
   "source": [
    "### create a function get the average online buys for the last 5 weeks"
   ]
  },
  {
   "cell_type": "code",
   "execution_count": 2,
   "id": "dc8d8f19",
   "metadata": {},
   "outputs": [
    {
     "name": "stdout",
     "output_type": "stream",
     "text": [
      "Average Online Buys: 20.6\n"
     ]
    }
   ],
   "source": [
    "def aveForLastFIveWeeks(onlineBuys):\n",
    "    sumOfList = sum(onlineBuys)\n",
    "    nOfList = len(onlineBuys)\n",
    "    average = sumOfList / nOfList\n",
    "    \n",
    "    return average\n",
    "\n",
    "listOfBuys = [19, 27, 17, 24, 16]\n",
    "\n",
    "averageBuys = aveForLastFIveWeeks(listOfBuys)\n",
    "print(\"Average Online Buys:\", averageBuys)"
   ]
  },
  {
   "cell_type": "code",
   "execution_count": null,
   "id": "9b5e2670",
   "metadata": {},
   "outputs": [],
   "source": []
  }
 ],
 "metadata": {
  "kernelspec": {
   "display_name": "Python 3 (ipykernel)",
   "language": "python",
   "name": "python3"
  },
  "language_info": {
   "codemirror_mode": {
    "name": "ipython",
    "version": 3
   },
   "file_extension": ".py",
   "mimetype": "text/x-python",
   "name": "python",
   "nbconvert_exporter": "python",
   "pygments_lexer": "ipython3",
   "version": "3.9.12"
  }
 },
 "nbformat": 4,
 "nbformat_minor": 5
}
